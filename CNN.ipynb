{
 "cells": [
  {
   "cell_type": "markdown",
   "metadata": {
    "id": "UKc8K9_57UEz"
   },
   "source": [
    "# CS224 - Winter 2023 - PROGRAMMING ASSIGNMENT 3 - DNN\n",
    "\n",
    "**Due**: March 22, 2023 @ 11:59pm PDT\n",
    "\n",
    "**Maximum points**: 15"
   ]
  },
  {
   "cell_type": "markdown",
   "metadata": {
    "id": "JL5tIX4c9z6s"
   },
   "source": [
    "<div style=\"margin-bottom: 15px; padding: 15px; color: #31708f; background-color: #d9edf7; border: 1px solid #bce8f1; border-radius: 5px;\">\n",
    "    \n",
    "<b><font size=+2>Enter your information below:</font></b></br></br>\n",
    "\n",
    "  <b>(full) Name</b>: Shahriar M Sakib\n",
    "  </br>\n",
    "  <b>Student ID Number</b>:  862393922\n",
    "  </br></br>\n",
    "    \n",
    "<b>By submitting this notebook, I assert that the work below is my own work, completed for this course.  Except where explicitly cited, none of the portions of this notebook are duplicated from anyone else's work or my own previous work.</b>\n",
    "</div>"
   ]
  },
  {
   "cell_type": "markdown",
   "metadata": {
    "id": "ws7HS-yHJmKL"
   },
   "source": [
    "<div style=\"padding: 15px; color: #8a6d3b; background-color: #fcf8e3; border: 1px solid #faebcc; border-radius: 5px;\">\n",
    "<b><font size=+2>Academic Integrity</font></b></br> \n",
    "Each assignment should be done  individually. You may discuss general approaches with other students in the class, and ask questions to the TA, but  you must only submit work that is yours . If you receive help by any external sources (other than the TA and the instructor), you must properly credit those sources. The UCR Academic Integrity policies are available at <a href=\"http://conduct.ucr.edu/policies/academicintegrity.html\" target=\"_blank\">http://conduct.ucr.edu/policies/academicintegrity.html</a>.\n",
    "</div>"
   ]
  },
  {
   "cell_type": "markdown",
   "metadata": {
    "id": "hsywQWEI8pzj"
   },
   "source": [
    "# Overview \n",
    "In this assignment you will extract the Deep Convolutional Neural Network features of a dataset(Question 1), implement multinomial logistic regression(Question 2) and ROC curve(Question 3).  \n",
    "\n",
    "For this assignment we will use the functionality of [PyTorch](https://pytorch.org/tutorials/beginner/basics/quickstart_tutorial.html), [Numpy](http://www.numpy.org/), and [Matplotlib](https://matplotlib.org/).\n",
    "\n",
    "If you are asked to **implement** a particular functionality, you should **not** use an existing implementation from the libraries above (or some other library that you may find). When in doubt, **please ask**. \n",
    "\n",
    "Before you start, make sure you have installed all those packages in your local Jupyter instance.\n",
    "\n",
    "\n",
    "Read **all** cells carefully and answer **all** parts (both text and missing code). You will complete all the code marked `TODO` and answer descriptive/derivation questions."
   ]
  },
  {
   "cell_type": "code",
   "execution_count": 1,
   "metadata": {},
   "outputs": [
    {
     "name": "stdout",
     "output_type": "stream",
     "text": [
      "Requirement already satisfied: torch in c:\\users\\shahr\\anaconda3\\lib\\site-packages (2.0.0)\n",
      "Requirement already satisfied: torchvision in c:\\users\\shahr\\anaconda3\\lib\\site-packages (0.15.0)\n",
      "Requirement already satisfied: torchaudio in c:\\users\\shahr\\anaconda3\\lib\\site-packages (2.0.1)\n",
      "Requirement already satisfied: filelock in c:\\users\\shahr\\anaconda3\\lib\\site-packages (from torch) (3.6.0)\n",
      "Requirement already satisfied: typing-extensions in c:\\users\\shahr\\anaconda3\\lib\\site-packages (from torch) (4.3.0)\n",
      "Requirement already satisfied: sympy in c:\\users\\shahr\\anaconda3\\lib\\site-packages (from torch) (1.10.1)\n",
      "Requirement already satisfied: networkx in c:\\users\\shahr\\anaconda3\\lib\\site-packages (from torch) (2.8.4)\n",
      "Requirement already satisfied: jinja2 in c:\\users\\shahr\\anaconda3\\lib\\site-packages (from torch) (2.11.3)\n",
      "Requirement already satisfied: numpy in c:\\users\\shahr\\anaconda3\\lib\\site-packages (from torchvision) (1.21.5)\n",
      "Requirement already satisfied: requests in c:\\users\\shahr\\anaconda3\\lib\\site-packages (from torchvision) (2.28.1)\n",
      "Requirement already satisfied: pillow!=8.3.*,>=5.3.0 in c:\\users\\shahr\\anaconda3\\lib\\site-packages (from torchvision) (9.2.0)\n",
      "Requirement already satisfied: MarkupSafe>=0.23 in c:\\users\\shahr\\anaconda3\\lib\\site-packages (from jinja2->torch) (2.0.1)\n",
      "Requirement already satisfied: idna<4,>=2.5 in c:\\users\\shahr\\anaconda3\\lib\\site-packages (from requests->torchvision) (3.3)\n",
      "Requirement already satisfied: urllib3<1.27,>=1.21.1 in c:\\users\\shahr\\anaconda3\\lib\\site-packages (from requests->torchvision) (1.26.11)\n",
      "Requirement already satisfied: certifi>=2017.4.17 in c:\\users\\shahr\\anaconda3\\lib\\site-packages (from requests->torchvision) (2022.9.14)\n",
      "Requirement already satisfied: charset-normalizer<3,>=2 in c:\\users\\shahr\\anaconda3\\lib\\site-packages (from requests->torchvision) (2.0.4)\n",
      "Requirement already satisfied: mpmath>=0.19 in c:\\users\\shahr\\anaconda3\\lib\\site-packages (from sympy->torch) (1.2.1)\n",
      "Note: you may need to restart the kernel to use updated packages.\n"
     ]
    }
   ],
   "source": [
    "pip install torch torchvision torchaudio\n"
   ]
  },
  {
   "cell_type": "code",
   "execution_count": 10,
   "metadata": {
    "id": "NM7-Cx4H-jTt"
   },
   "outputs": [],
   "source": [
    "%matplotlib inline\n",
    "import numpy as np\n",
    "import torch.nn as nn\n",
    "import torchvision.models as models\n",
    "import torchvision.datasets as datasets\n",
    "import torchvision.transforms as transforms\n",
    "from torch.autograd import Variable\n",
    "import scipy.io as sio\n",
    "import torch\n",
    "import matplotlib.pyplot as plt"
   ]
  },
  {
   "cell_type": "markdown",
   "metadata": {
    "id": "23pjSoEH0zxo"
   },
   "source": [
    "DO **NOT** MODIFY ANYTHING IF NOT MENTIONED."
   ]
  },
  {
   "cell_type": "markdown",
   "metadata": {
    "id": "WHgsgFGF-kNA"
   },
   "source": [
    "# **Question 1: DNN [6 points]**\n",
    "In this problem, you are required to extract the Deep Convolutional Neural Network (CNN)\n",
    "features for a dataset. \n",
    "\n",
    "The dataset provided is the [**MNIST**](https://pytorch.org/vision/main/generated/torchvision.datasets.MNIST.html) dataset."
   ]
  },
  {
   "cell_type": "code",
   "execution_count": 2,
   "metadata": {
    "id": "PTv71Plf-vZJ"
   },
   "outputs": [],
   "source": [
    "mnist_trainset = datasets.MNIST(root='./data', train=True, download=True, transform=None)\n",
    "mnist_testset = datasets.MNIST(root='./data', train=False, download=True, transform=None)"
   ]
  },
  {
   "cell_type": "markdown",
   "metadata": {
    "id": "NDjf5U_NJmKN"
   },
   "source": [
    "You need to extract features from these images using the [**ResNet-50**](https://pytorch.org/hub/nvidia_deeplearningexamples_resnet50/) architecture available in PyTorch.\n",
    "\n",
    "You need to fill in the function named `extract`, which loads the images, extracts the features and appends them to the feature list along with the corresponding labels. The output of this code is the file `'mnist_train.mat` and `mnist_test.mat`, which are to be used in the next problem. This file should have\n",
    "\n",
    "1. `features` of dimension $m\\times n$, where $m=60000$ is the number of images and $n=2048$ is the feature dimension obtained using ResNet-50.\n",
    "1.  `labels` is a vector of length $m$ containing labels from 0 to 9 for the 10 categories.\n",
    "\n",
    "Some portions of the code is already filled in for convenience. Please do **not** modify anything if not mentioned.\n",
    "\n"
   ]
  },
  {
   "cell_type": "code",
   "execution_count": 3,
   "metadata": {
    "id": "-Y69hI0SJmKO"
   },
   "outputs": [],
   "source": [
    "def extract(dataset, filename):\n",
    "    features = []\n",
    "    labels = []\n",
    "\n",
    "    transform_test = transforms.Compose([\n",
    "        transforms.Grayscale(num_output_channels=3),\n",
    "        transforms.ToTensor(),\n",
    "        transforms.Normalize((0.5), (0.5))\n",
    "    ])\n",
    "\n",
    "    extractor = models.resnet50(weights='IMAGENET1K_V1')\n",
    "\n",
    "    extractor.eval()\n",
    "\n",
    "    for (_img, label) in dataset: \n",
    "        # TODO: fill in to load image, preprocess, and extract features\n",
    "        # the output variable F expected to be the feature of the image of dimension (2048,)\n",
    "        \n",
    "        img = transform_test(_img)                                     \n",
    "        img = img.unsqueeze(0)                          \n",
    "        F = extractor(img).squeeze().detach().numpy()   \n",
    "        features.append(F)\n",
    "        labels.append(label)\n",
    "        \n",
    "    sio.savemat(filename, mdict={'features': features, 'labels': labels})"
   ]
  },
  {
   "cell_type": "markdown",
   "metadata": {
    "id": "jKxtH-2jMZG6"
   },
   "source": [
    "Run the code below to get extracted features and labels of MNIST dataset, and then save it to `.mat` file. (This might take a while.) \n",
    "\n",
    "You do **not** need to submit the `.mat` file along with the PDF file."
   ]
  },
  {
   "cell_type": "code",
   "execution_count": 12,
   "metadata": {
    "id": "dPRvBgRQMiQP"
   },
   "outputs": [],
   "source": [
    "extract(mnist_trainset, 'mnist_train.mat')\n",
    "extract(mnist_testset, 'mnist_test.mat')"
   ]
  },
  {
   "cell_type": "markdown",
   "metadata": {
    "id": "S68CcxLxJmKP"
   },
   "source": [
    "# **Question 2: Multinomial Logistic Regression [6 points]**\n",
    "In this problem, you will implement the multinomial logistic regression using the extracted features and labels in Question 1. \n",
    "\n",
    "You should use variables `trfeature` and `trlabel` for training and `tefeature` and `telabel` for testing. \n",
    "\n",
    "Please remember to map the labels properly for testing. You need to fill in the function named `apply_gradient`, which returns the updated parameter $\\theta$ after a single pass of gradient descent using the given data points and labels. You also need to fill up certain the portions as mentioned in function `mlr`.\n",
    "\n",
    "\n",
    "- Using built-in functions like `sklearn.linear_model.LogisticRegression()` will **not** give you any points.\n",
    "- Please do **not** modify anything if not mentioned."
   ]
  },
  {
   "cell_type": "code",
   "execution_count": 21,
   "metadata": {
    "id": "L3RP3Lm5JmKP"
   },
   "outputs": [],
   "source": [
    "BATCH_SIZE = 64        # TODO: fill in and modify to see change in performance\n",
    "LR = 0.001              # TODO: learning rate; fill in and modify to see change in performance\n",
    "\n",
    "def get_one_hot(labels):\n",
    "    cats = np.unique(labels)\n",
    "    onehot = np.zeros((labels.size, cats.size))\n",
    "    onehot[np.arange(labels.size), labels] = 1.\n",
    "    return onehot\n",
    "\n",
    "def plot(acc):\n",
    "    plt.plot(np.arange(len(acc)),  acc, 'b-')\n",
    "    plt.xlabel('Epoch Number')\n",
    "    plt.ylabel('Test Accuracy')\n",
    "    plt.show()\n",
    "\n",
    "# X is a matrix of size n_samples x n_feature\n",
    "# L is a vector of size n_samples x n_category\n",
    "# theta is a matrix of size n_feature x n_category\n",
    "def apply_gradients(X, L, theta):\n",
    "    logits = np.matmul(X, theta)\n",
    "    probs = np.exp(logits) / np.sum(np.exp(logits), axis=1, keepdims=True)\n",
    "    grad = np.matmul(X.T, probs-L) / X.shape[0]\n",
    "    new_theta = theta - LR*grad\n",
    "    return new_theta\n",
    "\n",
    "def mlr(trfeature, tr_onehot, tefeature, te_onehot):\n",
    "    #tr_onehot = get_one_hot(trlabel)\n",
    "    #te_onehot = get_one_hot(telabel)\n",
    "    m_tr = tr_onehot.shape[0] \n",
    "    m_te = te_onehot.shape[0] \n",
    "    n_feature = trfeature.shape[1] \n",
    "    n_category = tr_onehot.shape[1] \n",
    "\n",
    "    theta = np.zeros((n_feature, n_category)) \n",
    "    diff = 1\n",
    "    epoch = 0\n",
    "\n",
    "    predonehot = []\n",
    "    test_accuracy_list = []\n",
    "    while diff > 1e-10 and epoch < 1000:\n",
    "        theta_old = theta\n",
    "        # Train\n",
    "        for i in range(0, m_tr, BATCH_SIZE):\n",
    "            endpos = min(m_tr, i+BATCH_SIZE-1)\n",
    "            theta = apply_gradients(trfeature[i:endpos,:], tr_onehot[i:endpos,:], theta)\n",
    "        \n",
    "        diff = np.linalg.norm(theta_old-theta)\n",
    "\n",
    "        # Predict on the test dataset\n",
    "        logits = torch.mm(torch.tensor(tefeature, dtype=torch.float32), torch.tensor(theta, dtype=torch.float32))\n",
    "        probs = torch.nn.functional.softmax(logits, dim=1)\n",
    "        predonehot = probs.detach().numpy()\n",
    "\n",
    "        pred = np.argmax(predonehot, axis=1)\n",
    "        test_accuracy = np.mean(pred == telabel)\n",
    "        test_accuracy_list.append(test_accuracy)\n",
    "\n",
    "        epoch += 1\n",
    "        # Update learning rate if you want\n",
    "\n",
    "    plot(test_accuracy_list)\n",
    "\n",
    "    print('Test Accuracy: %.5f'%(test_accuracy_list[-1]))\n",
    "\n",
    "    return predonehot"
   ]
  },
  {
   "cell_type": "markdown",
   "metadata": {
    "id": "v-rxbuG-JmKP"
   },
   "source": [
    "Run the code below, check the accuracy plot, and report the test accuracy you obtain."
   ]
  },
  {
   "cell_type": "code",
   "execution_count": 22,
   "metadata": {
    "id": "EgHsvRvxsydt"
   },
   "outputs": [
    {
     "ename": "NameError",
     "evalue": "name 'X' is not defined",
     "output_type": "error",
     "traceback": [
      "\u001b[1;31m---------------------------------------------------------------------------\u001b[0m",
      "\u001b[1;31mNameError\u001b[0m                                 Traceback (most recent call last)",
      "\u001b[1;32m~\\AppData\\Local\\Temp\\ipykernel_18148\\2187320189.py\u001b[0m in \u001b[0;36m<module>\u001b[1;34m\u001b[0m\n\u001b[0;32m      9\u001b[0m \u001b[1;31m# fit multinomial logistic regression\u001b[0m\u001b[1;33m\u001b[0m\u001b[1;33m\u001b[0m\u001b[0m\n\u001b[0;32m     10\u001b[0m \u001b[1;31m# we will need the variable predonehot for next question\u001b[0m\u001b[1;33m\u001b[0m\u001b[1;33m\u001b[0m\u001b[0m\n\u001b[1;32m---> 11\u001b[1;33m \u001b[0mpredonehot\u001b[0m \u001b[1;33m=\u001b[0m \u001b[0mmlr\u001b[0m\u001b[1;33m(\u001b[0m\u001b[0mtrfeature\u001b[0m\u001b[1;33m,\u001b[0m \u001b[0mget_one_hot\u001b[0m\u001b[1;33m(\u001b[0m\u001b[0mtrlabel\u001b[0m\u001b[1;33m)\u001b[0m\u001b[1;33m,\u001b[0m \u001b[0mtefeature\u001b[0m\u001b[1;33m,\u001b[0m \u001b[0mteonehot\u001b[0m\u001b[1;33m)\u001b[0m\u001b[1;33m\u001b[0m\u001b[1;33m\u001b[0m\u001b[0m\n\u001b[0m",
      "\u001b[1;32m~\\AppData\\Local\\Temp\\ipykernel_18148\\1608222467.py\u001b[0m in \u001b[0;36mmlr\u001b[1;34m(trfeature, tr_onehot, tefeature, te_onehot)\u001b[0m\n\u001b[0;32m     48\u001b[0m \u001b[1;33m\u001b[0m\u001b[0m\n\u001b[0;32m     49\u001b[0m         \u001b[1;31m# Predict on the test dataset\u001b[0m\u001b[1;33m\u001b[0m\u001b[1;33m\u001b[0m\u001b[0m\n\u001b[1;32m---> 50\u001b[1;33m         \u001b[0mlogits\u001b[0m \u001b[1;33m=\u001b[0m \u001b[0mnp\u001b[0m\u001b[1;33m.\u001b[0m\u001b[0mmatmul\u001b[0m\u001b[1;33m(\u001b[0m\u001b[0mX\u001b[0m\u001b[1;33m,\u001b[0m \u001b[0mtheta\u001b[0m\u001b[1;33m)\u001b[0m\u001b[1;33m\u001b[0m\u001b[1;33m\u001b[0m\u001b[0m\n\u001b[0m\u001b[0;32m     51\u001b[0m         \u001b[0mprobs\u001b[0m \u001b[1;33m=\u001b[0m \u001b[0mnp\u001b[0m\u001b[1;33m.\u001b[0m\u001b[0mexp\u001b[0m\u001b[1;33m(\u001b[0m\u001b[0mlogits\u001b[0m\u001b[1;33m)\u001b[0m \u001b[1;33m/\u001b[0m \u001b[0mnp\u001b[0m\u001b[1;33m.\u001b[0m\u001b[0msum\u001b[0m\u001b[1;33m(\u001b[0m\u001b[0mnp\u001b[0m\u001b[1;33m.\u001b[0m\u001b[0mexp\u001b[0m\u001b[1;33m(\u001b[0m\u001b[0mlogits\u001b[0m\u001b[1;33m)\u001b[0m\u001b[1;33m,\u001b[0m \u001b[0maxis\u001b[0m\u001b[1;33m=\u001b[0m\u001b[1;36m1\u001b[0m\u001b[1;33m,\u001b[0m \u001b[0mkeepdims\u001b[0m\u001b[1;33m=\u001b[0m\u001b[1;32mTrue\u001b[0m\u001b[1;33m)\u001b[0m\u001b[1;33m\u001b[0m\u001b[1;33m\u001b[0m\u001b[0m\n\u001b[0;32m     52\u001b[0m         \u001b[0mpredonehot\u001b[0m \u001b[1;33m=\u001b[0m \u001b[0mprobs\u001b[0m\u001b[1;33m.\u001b[0m\u001b[0mdetach\u001b[0m\u001b[1;33m(\u001b[0m\u001b[1;33m)\u001b[0m\u001b[1;33m.\u001b[0m\u001b[0mnumpy\u001b[0m\u001b[1;33m(\u001b[0m\u001b[1;33m)\u001b[0m\u001b[1;33m\u001b[0m\u001b[1;33m\u001b[0m\u001b[0m\n",
      "\u001b[1;31mNameError\u001b[0m: name 'X' is not defined"
     ]
    }
   ],
   "source": [
    "# get the extracted features from Question 1\n",
    "trmat = sio.loadmat('mnist_train.mat')\n",
    "temat = sio.loadmat('mnist_test.mat')\n",
    "\n",
    "trfeature, trlabel = trmat['features'], trmat['labels']\n",
    "tefeature, telabel = temat['features'], temat['labels']\n",
    "\n",
    "teonehot = get_one_hot(telabel)\n",
    "# fit multinomial logistic regression\n",
    "# we will need the variable predonehot for next question\n",
    "predonehot = mlr(trfeature, get_one_hot(trlabel), tefeature, teonehot)"
   ]
  },
  {
   "cell_type": "markdown",
   "metadata": {},
   "source": [
    "I have tried some values of Learning rate & Batch size. This combination works better for my code. \n"
   ]
  },
  {
   "cell_type": "markdown",
   "metadata": {
    "id": "YwQX25QtJmKP"
   },
   "source": [
    "# **Question 3: ROC [3 points]**\n",
    "In this problem, you need to implement the Receiver Operating Characteristics (ROC) curve. The output of the function `getROC` should be `TPR`, `FPR` representing True Positive Rate and False Positive Rate respectively.\n",
    "\n",
    "- Using built-in functions like `sklearn.metrics.roc_curve()` will **not** give you any points."
   ]
  },
  {
   "cell_type": "code",
   "execution_count": 17,
   "metadata": {
    "id": "TOTg4RUPJmKP"
   },
   "outputs": [],
   "source": [
    "# pred is a vector of predictions of size n_samples x 1\n",
    "# gt is the ground truth vector of 1 or 0 of size n_samples x 1 (1 indicates a positive and 0 negative)\n",
    "# TPR is the True Positive Rate\n",
    "# FPR is the False Positive Rate\n",
    "def getROC(pred, gt):\n",
    "    n_samples = len(gt)\n",
    "    # Sort the predictions in descending order\n",
    "    sorted_indices = pred.argsort()[::-1]\n",
    "    sorted_pred = pred[sorted_indices]\n",
    "    sorted_gt = gt[sorted_indices]\n",
    "    \n",
    "    # Initialize true positive and false positive counts\n",
    "    TP_count = 0\n",
    "    FP_count = 0\n",
    "    \n",
    "    # Initialize true positive rate and false positive rate lists\n",
    "    TPR = []\n",
    "    FPR = []\n",
    "    \n",
    "    # Iterate over all possible thresholds\n",
    "    for i in range(n_samples):\n",
    "        if sorted_gt[i] == 1:\n",
    "            TP_count += 1\n",
    "        else:\n",
    "            FP_count += 1\n",
    "        # Calculate TPR and FPR for current threshold\n",
    "        TPR.append(TP_count / sum(sorted_gt))\n",
    "        FPR.append(FP_count / (n_samples - sum(sorted_gt)))\n",
    "    \n",
    "    return TPR, FPR"
   ]
  },
  {
   "cell_type": "markdown",
   "metadata": {
    "id": "98IJDswCMge4"
   },
   "source": [
    "Run the code below to plot the ROC you got for the 9-th category."
   ]
  },
  {
   "cell_type": "code",
   "execution_count": 18,
   "metadata": {
    "id": "AyxMhtzKLnac"
   },
   "outputs": [
    {
     "data": {
      "image/png": "[encoded data removed]",
      "text/plain": [
       "<Figure size 640x480 with 1 Axes>"
      ]
     },
     "metadata": {},
     "output_type": "display_data"
    }
   ],
   "source": [
    "TPR, FPR = getROC(np.array(predonehot)[:, 9], teonehot[:, 9])\n",
    "\n",
    "plt.plot(FPR, TPR, 'b-')\n",
    "plt.xlabel('False Positive Rate')\n",
    "plt.ylabel('True Positive Rate')\n",
    "plt.show()"
   ]
  },
  {
   "cell_type": "code",
   "execution_count": null,
   "metadata": {},
   "outputs": [],
   "source": []
  }
 ],
 "metadata": {
  "colab": {
   "provenance": []
  },
  "kernelspec": {
   "display_name": "Python 3 (ipykernel)",
   "language": "python",
   "name": "python3"
  },
  "language_info": {
   "codemirror_mode": {
    "name": "ipython",
    "version": 3
   },
   "file_extension": ".py",
   "mimetype": "text/x-python",
   "name": "python",
   "nbconvert_exporter": "python",
   "pygments_lexer": "ipython3",
   "version": "3.9.13"
  },
  "vscode": {
   "interpreter": {
    "hash": "50292dbb1f747f7151d445135d392af3138fb3c65386d17d9510cb605222b10b"
   }
  }
 },
 "nbformat": 4,
 "nbformat_minor": 1
}
